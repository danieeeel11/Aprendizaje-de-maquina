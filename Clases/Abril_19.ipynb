{
  "nbformat": 4,
  "nbformat_minor": 0,
  "metadata": {
    "colab": {
      "provenance": []
    },
    "kernelspec": {
      "name": "python3",
      "display_name": "Python 3"
    },
    "language_info": {
      "name": "python"
    }
  },
  "cells": [
    {
      "cell_type": "code",
      "source": [
        "import numpy as np\n",
        "import math\n",
        "import matplotlib.pyplot as plt"
      ],
      "metadata": {
        "id": "txPth8RJptR8"
      },
      "execution_count": 91,
      "outputs": []
    },
    {
      "cell_type": "code",
      "source": [
        "def recta(x1,m,b):\n",
        "  return m * x1 + b"
      ],
      "metadata": {
        "id": "w8wDpM-JtCy-"
      },
      "execution_count": 92,
      "outputs": []
    },
    {
      "cell_type": "code",
      "source": [
        "def sigmoid(z):\n",
        "  return 1 / (1 + np.exp(-z))"
      ],
      "metadata": {
        "id": "yFeOgtNVt80E"
      },
      "execution_count": 93,
      "outputs": []
    },
    {
      "cell_type": "code",
      "source": [
        "def neurona1(x1, x2, m, b):\n",
        "  z = 0 \n",
        "  for i  in range(len(x1)):\n",
        "    z =+ m * x1[i] + b - x2[i]\n",
        "  return sigmoid(z)"
      ],
      "metadata": {
        "id": "_yiyrelCtumy"
      },
      "execution_count": 94,
      "outputs": []
    },
    {
      "cell_type": "markdown",
      "source": [
        "OR"
      ],
      "metadata": {
        "id": "I2kM9SwQtWVN"
      }
    },
    {
      "cell_type": "code",
      "source": [
        "X = np.array([[0,0],[0,1],[1,0],[1,1]])\n",
        "y = [0,1,1,1]"
      ],
      "metadata": {
        "id": "A_7-vD7EtNsQ"
      },
      "execution_count": 95,
      "outputs": []
    },
    {
      "cell_type": "code",
      "source": [
        "m = -1\n",
        "b = 0.6"
      ],
      "metadata": {
        "id": "71X98RBgwrFt"
      },
      "execution_count": 96,
      "outputs": []
    },
    {
      "cell_type": "code",
      "source": [
        "x = np.arange(0, 1, 0.1)\n",
        "x2 = recta(x,m,b)\n",
        "plt.scatter(X[:, 0], X[:, 1], c=y)\n",
        "plt.plot(x, x2)\n",
        "plt.show()"
      ],
      "metadata": {
        "colab": {
          "base_uri": "https://localhost:8080/",
          "height": 430
        },
        "id": "L3265zFEsljM",
        "outputId": "8d592441-1f01-44e8-fb33-187533526a2f"
      },
      "execution_count": 97,
      "outputs": [
        {
          "output_type": "display_data",
          "data": {
            "text/plain": [
              "<Figure size 640x480 with 1 Axes>"
            ],
            "image/png": "[encoded data removed]"
          },
          "metadata": {}
        }
      ]
    },
    {
      "cell_type": "code",
      "source": [
        "neurona1(x, x2, m, b)"
      ],
      "metadata": {
        "colab": {
          "base_uri": "https://localhost:8080/"
        },
        "id": "Oxd-6mtuuDyK",
        "outputId": "5009ea46-b529-4e57-f1de-f9b989640a31"
      },
      "execution_count": 98,
      "outputs": [
        {
          "output_type": "execute_result",
          "data": {
            "text/plain": [
              "0.5"
            ]
          },
          "metadata": {},
          "execution_count": 98
        }
      ]
    }
  ]
}