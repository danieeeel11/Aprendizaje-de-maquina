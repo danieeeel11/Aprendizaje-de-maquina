{
  "nbformat": 4,
  "nbformat_minor": 0,
  "metadata": {
    "colab": {
      "provenance": []
    },
    "kernelspec": {
      "name": "python3",
      "display_name": "Python 3"
    },
    "language_info": {
      "name": "python"
    }
  },
  "cells": [
    {
      "cell_type": "markdown",
      "source": [
        "Daniel Velasquez"
      ],
      "metadata": {
        "id": "PVxrOoWHjCsl"
      }
    },
    {
      "cell_type": "code",
      "execution_count": null,
      "metadata": {
        "id": "G2XMLtp3Czod"
      },
      "outputs": [],
      "source": [
        "import numpy as np\n",
        "import matplotlib.pyplot as plt\n",
        "from numpy import inf\n",
        "import math"
      ]
    },
    {
      "cell_type": "code",
      "execution_count": null,
      "metadata": {
        "id": "OyMGY-uOCzoj"
      },
      "outputs": [],
      "source": [
        "muestras= np.array(\n",
        "    [[6.2206, 3.5095],\n",
        "    [5.1325, 4.0181],\n",
        "    [0.7597, 2.3992],\n",
        "    [1.2332, 6.8391],\n",
        "    [2.3995, 4.1727],\n",
        "    [0.4965, 9.0272],\n",
        "    [9.4479, 4.9086],\n",
        "    [4.8925, 3.3772],\n",
        "    [9.0005, 3.6925],\n",
        "    [1.1120, 7.8025]\n",
        "    ])\n",
        "\n",
        "clases=np.array([1, 1, 0, 0, 0, 0, 1, 1, 1, 0]);\n"
      ]
    },
    {
      "cell_type": "code",
      "execution_count": null,
      "metadata": {
        "id": "yz21OTA4Czoo"
      },
      "outputs": [],
      "source": [
        "def recta(x):\n",
        "    return 0 "
      ]
    },
    {
      "cell_type": "code",
      "execution_count": null,
      "metadata": {
        "id": "Wf1OWWCtCzox"
      },
      "outputs": [],
      "source": [
        "def sigmoid(z):\n",
        "  return 0"
      ]
    },
    {
      "cell_type": "code",
      "execution_count": null,
      "metadata": {
        "id": "MMbPogAYH469"
      },
      "outputs": [],
      "source": [
        "def f(x1, x2):\n",
        "  return 0"
      ]
    },
    {
      "cell_type": "code",
      "execution_count": null,
      "metadata": {
        "colab": {
          "base_uri": "https://localhost:8080/",
          "height": 265
        },
        "id": "hczDwiX0Czos",
        "outputId": "2a5d36b5-1ec7-47fc-ef41-39257a084ab9"
      },
      "outputs": [
        {
          "output_type": "display_data",
          "data": {
            "text/plain": [
              "<Figure size 432x288 with 1 Axes>"
            ],
            "image/png": "[encoded data removed]"
          },
          "metadata": {
            "needs_background": "light"
          }
        }
      ],
      "source": [
        "fig = plt.figure()\n",
        "x = np.arange(-2, 12, 0.1)\n",
        "yscale = np.arange(-2, 12, 1)\n",
        "xscale = np.arange(-2, 12, 1)\n",
        "clase1 = muestras[np.where(clases==0), :][0]\n",
        "clase2 = muestras[np.where(clases==1), :][0]\n",
        "\n",
        "plt.scatter(clase1[:,0], clase1[:,1], c=['red'])\n",
        "plt.scatter(clase2[:,0], clase2[:,1], c=['blue'])\n",
        "\n",
        "plt.show()"
      ]
    },
    {
      "cell_type": "markdown",
      "metadata": {
        "id": "lIpkDMo7ChFn"
      },
      "source": [
        "1- Encontrar una función(cualquiera) de una recta que divida el conjunto de datos:\n",
        "\n",
        "$x_2 = \\theta_1 x_1 + \\theta_0$\n",
        "\n",
        "2- crear la función:\n",
        "\n",
        "$f(x_1, x_2) = \\theta_1 x_1 + \\theta_0 - x_2$\n",
        "\n",
        "3- Ubicar tres puntos en la gráfica:\n",
        "a) uno por encima de la línea\n",
        "b) uno sobre la línea\n",
        "c) Uno por debajo de la línea\n",
        "\n",
        "4 - ¿Cuánto da la función $f(x_1, x_2)$  en cada uno de estos puntos?\n",
        "\n",
        "4b- En general, ¿cuańto da un punto que está por encima de la línea, uno que está sobre la línea y otro que está debajo?\n",
        "\n",
        "5 - ¿A cuánto tiende un punto que está lejos de la línea por debajo? ¿A cuanto tiende un punto que está lejos de la línea por encima?\n",
        "\n",
        "6 - Dibujar la gráfica z vs sigmoid(z). A cuánto tiende sigmoid cuando:\n",
        "\n",
        "\n",
        "sigmoid(z) = $\\frac{1}{1+e^{-z}}$\n",
        "\n",
        "\n",
        "a) z tiende a infinito\n",
        "b) z es cero\n",
        "c) z tiene a -infinito\n",
        "\n",
        "7 - cree una función:\n",
        "\n",
        " $g(x_1, x_2) = sigmoid(f(x_1, x_2))$\n",
        " \n",
        " donde $f(x_1, x_2)$ es la función creada anteriormente.\n",
        "\n",
        " 8 - responda los puntos 4 y 5  pero en lugar de utilizar la función $f(x_1, x_2)$, utilice $g(x_1, x_2)$\n",
        "\n",
        " 9 - entrenar un modelo utilizando sklearn Logistic Regression. Dibujar la línea encontrada por el algoritmo. \n",
        "\n"
      ]
    },
    {
      "cell_type": "markdown",
      "source": [
        "#1. Encontrar una función(cualquiera) de una recta que divida el conjunto de datos:\n",
        "\n",
        "$x_2 = \\theta_1 x_1 + \\theta_0$"
      ],
      "metadata": {
        "id": "dtsqk00SUI70"
      }
    },
    {
      "cell_type": "code",
      "source": [
        "x1 = []\n",
        "x2 = []\n",
        "for i in muestras:\n",
        "  x1.append(float(i[0]))\n",
        "  x2.append(float(i[1]))"
      ],
      "metadata": {
        "id": "GZHVDfwvW_xu"
      },
      "execution_count": null,
      "outputs": []
    },
    {
      "cell_type": "code",
      "source": [
        "from sklearn.linear_model import LogisticRegression\n",
        "\n",
        "lr = LogisticRegression()\n",
        "lr.fit(muestras, clases)\n",
        "\n",
        "theta1 = lr.coef_[0][0]\n",
        "#theta0 = lr.intercept_[0]\n",
        "theta0 = lr.coef_[0][1]\n",
        "print(\"Theta1:\", theta1)\n",
        "print(\"Theta0:\", theta0)"
      ],
      "metadata": {
        "colab": {
          "base_uri": "https://localhost:8080/"
        },
        "id": "jaSV4poVYvc7",
        "outputId": "65094a54-6c3f-4bd4-9705-7b95ba07dc90"
      },
      "execution_count": null,
      "outputs": [
        {
          "output_type": "stream",
          "name": "stdout",
          "text": [
            "Theta1: 1.130882456525329\n",
            "Theta0: -0.2700994795131467\n"
          ]
        }
      ]
    },
    {
      "cell_type": "code",
      "source": [
        "def recta(x1,theta0,theta1):\n",
        "  aux = []\n",
        "  for i in x1:\n",
        "    aux.append(theta1*i + theta0)\n",
        "  return aux"
      ],
      "metadata": {
        "id": "Css9F2u2ZwdU"
      },
      "execution_count": null,
      "outputs": []
    },
    {
      "cell_type": "code",
      "source": [
        "x2_plot = recta(x1,theta0,theta1)\n",
        "\n",
        "plt.scatter(clase1[:,0], clase1[:,1], c=['red'])\n",
        "plt.scatter(clase2[:,0], clase2[:,1], c=['blue'])\n",
        "plt.plot(x1, x2_plot, color='red')\n",
        "\n",
        "plt.xlabel('x1')\n",
        "plt.ylabel('x2')\n",
        "\n",
        "plt.show()"
      ],
      "metadata": {
        "colab": {
          "base_uri": "https://localhost:8080/",
          "height": 279
        },
        "id": "ahWQ7V3rXbRd",
        "outputId": "7b58a5a9-9254-425c-b791-ad3bcaf8e2f5"
      },
      "execution_count": null,
      "outputs": [
        {
          "output_type": "display_data",
          "data": {
            "text/plain": [
              "<Figure size 432x288 with 1 Axes>"
            ],
            "image/png": "[encoded data removed]"
          },
          "metadata": {
            "needs_background": "light"
          }
        }
      ]
    },
    {
      "cell_type": "markdown",
      "source": [
        "#2. Crear la función:\n",
        "\n",
        "$f(x_1, x_2) = \\theta_1 x_1 + \\theta_0 - x_2$"
      ],
      "metadata": {
        "id": "n2c5ULkiX52E"
      }
    },
    {
      "cell_type": "code",
      "source": [
        "def f(x1,x2):\n",
        "  aux = []\n",
        "  if type(x1) == list:\n",
        "    for i in range(len(x1)):\n",
        "      aux.append(theta1*x1[i] + theta0 - x2[i])\n",
        "  else:\n",
        "    aux.append(theta1*x1 + theta0 - x2)\n",
        "  return aux"
      ],
      "metadata": {
        "id": "bgdV_KwTX5qA"
      },
      "execution_count": null,
      "outputs": []
    },
    {
      "cell_type": "markdown",
      "source": [
        "#3. Ubicar tres puntos en la gráfica:\n",
        "a) uno por encima de la línea\n",
        "\n",
        "b) uno sobre la línea\n",
        "\n",
        "c) Uno por debajo de la línea\n"
      ],
      "metadata": {
        "id": "muOSttQEdF1P"
      }
    },
    {
      "cell_type": "code",
      "source": [
        "import random"
      ],
      "metadata": {
        "id": "buyRNBglgN9y"
      },
      "execution_count": null,
      "outputs": []
    },
    {
      "cell_type": "code",
      "source": [
        "dotA = random.choice(x1)\n",
        "ind = x1.index(dotA)\n",
        "y_dotA = x2_plot[ind] + random.uniform(1, 3)\n",
        "a = [dotA,y_dotA]\n",
        "print(\"Punto a (por encima de la línea):\",a)"
      ],
      "metadata": {
        "colab": {
          "base_uri": "https://localhost:8080/"
        },
        "id": "eE_B2BZigmz9",
        "outputId": "fb33b0d7-9814-4543-e7d0-9c41158d06c1"
      },
      "execution_count": null,
      "outputs": [
        {
          "output_type": "stream",
          "name": "stdout",
          "text": [
            "Punto a (por encima de la línea): [6.2206, 9.290285717220852]\n"
          ]
        }
      ]
    },
    {
      "cell_type": "code",
      "source": [
        "dotB = random.choice(x1)\n",
        "ind = x1.index(dotB)\n",
        "y_dotB = x2_plot[ind]\n",
        "b = [dotB,y_dotB]\n",
        "print(\"Punto b (sobre la línea):\",b)"
      ],
      "metadata": {
        "colab": {
          "base_uri": "https://localhost:8080/"
        },
        "id": "nnkvUy0kI_ed",
        "outputId": "a64d363a-3c09-41cf-a865-dffab03973f0"
      },
      "execution_count": null,
      "outputs": [
        {
          "output_type": "stream",
          "name": "stdout",
          "text": [
            "Punto b (sobre la línea): [0.7597, 0.5890319227091458]\n"
          ]
        }
      ]
    },
    {
      "cell_type": "code",
      "source": [
        "dotC = random.choice(x1)\n",
        "ind = x1.index(dotC)\n",
        "y_dotC = x2_plot[ind] - random.uniform(1, 3)\n",
        "c = [dotC,y_dotC]\n",
        "print(\"Punto c (por debajo de la línea):\",c)"
      ],
      "metadata": {
        "colab": {
          "base_uri": "https://localhost:8080/"
        },
        "id": "g40IwVIedLBw",
        "outputId": "f5233b0a-9d3f-43b6-86a6-fb6cfed2dc5d"
      },
      "execution_count": null,
      "outputs": [
        {
          "output_type": "stream",
          "name": "stdout",
          "text": [
            "Punto c (por debajo de la línea): [4.8925, 2.3063646486276195]\n"
          ]
        }
      ]
    },
    {
      "cell_type": "code",
      "source": [
        "plt.scatter(clase1[:,0], clase1[:,1], c=['red'])\n",
        "plt.scatter(clase2[:,0], clase2[:,1], c=['blue'])\n",
        "plt.plot(x1, x2_plot, color='red')\n",
        "plt.plot(a[0],a[1],marker =\"o\", markersize=10, color=\"black\", label='a')\n",
        "plt.plot(b[0],b[1],marker =\"o\", markersize=10, color=\"grey\", label='b')\n",
        "plt.plot(c[0],c[1],marker =\"o\", markersize=10, color=\"orange\", label='c')\n",
        "\n",
        "plt.xlabel('x1')\n",
        "plt.ylabel('x2')\n",
        "plt.legend()\n",
        "\n",
        "plt.show()"
      ],
      "metadata": {
        "colab": {
          "base_uri": "https://localhost:8080/",
          "height": 279
        },
        "id": "-2OwgEyDfHNb",
        "outputId": "725a2aa9-7f68-42d5-83bc-a41018d853cc"
      },
      "execution_count": null,
      "outputs": [
        {
          "output_type": "display_data",
          "data": {
            "text/plain": [
              "<Figure size 432x288 with 1 Axes>"
            ],
            "image/png": "[encoded data removed]"
          },
          "metadata": {
            "needs_background": "light"
          }
        }
      ]
    },
    {
      "cell_type": "markdown",
      "source": [
        "#4. ¿Cuánto da la función $f(x_1, x_2)$  en cada uno de estos puntos?\n",
        "\n",
        "En general, ¿cuańto da un punto que está por encima de la línea, uno que está sobre la línea y otro que está debajo?"
      ],
      "metadata": {
        "id": "0BzkVoqEJj4r"
      }
    },
    {
      "cell_type": "code",
      "source": [
        "f(a[0],a[1])"
      ],
      "metadata": {
        "colab": {
          "base_uri": "https://localhost:8080/"
        },
        "id": "69p2KZhiJrcT",
        "outputId": "cc248450-17f5-4198-de67-40a84badeae7"
      },
      "execution_count": null,
      "outputs": [
        {
          "output_type": "execute_result",
          "data": {
            "text/plain": [
              "[-2.5256177876725374]"
            ]
          },
          "metadata": {},
          "execution_count": 116
        }
      ]
    },
    {
      "cell_type": "code",
      "source": [
        "f(b[0],b[1])"
      ],
      "metadata": {
        "colab": {
          "base_uri": "https://localhost:8080/"
        },
        "id": "PRjSDQW5RX92",
        "outputId": "23d2cefe-343d-4b40-dabd-c42416e6efa7"
      },
      "execution_count": null,
      "outputs": [
        {
          "output_type": "execute_result",
          "data": {
            "text/plain": [
              "[0.0]"
            ]
          },
          "metadata": {},
          "execution_count": 117
        }
      ]
    },
    {
      "cell_type": "code",
      "source": [
        "f(c[0],c[1])"
      ],
      "metadata": {
        "colab": {
          "base_uri": "https://localhost:8080/"
        },
        "id": "Lfpr3rzIRdc6",
        "outputId": "a16e9885-9f0c-49f8-c4d7-f106735081e1"
      },
      "execution_count": null,
      "outputs": [
        {
          "output_type": "execute_result",
          "data": {
            "text/plain": [
              "[2.9563782904094067]"
            ]
          },
          "metadata": {},
          "execution_count": 118
        }
      ]
    },
    {
      "cell_type": "markdown",
      "source": [
        "R// Dado lo anterior y con los puntos declarados anteriormente, se dice que, un punto por encima de la línea con la función f(x1,x2) da en un rango negativo. Un punto en la línea con la función da 0. Un punto debajo de la línea con la función da en un rango positivo."
      ],
      "metadata": {
        "id": "xgFd8eZQSAWg"
      }
    },
    {
      "cell_type": "markdown",
      "source": [
        "#5. ¿A cuánto tiende un punto que está lejos de la línea por debajo? ¿A cuanto tiende un punto que está lejos de la línea por encima?"
      ],
      "metadata": {
        "id": "sqqmCFPWS2wR"
      }
    },
    {
      "cell_type": "code",
      "source": [
        "dotD = random.choice(x1)\n",
        "ind = x1.index(dotD)\n",
        "y_dotD = x2_plot[ind] + random.uniform(30, 40)\n",
        "d = [dotD,y_dotD]\n",
        "print(\"Punto d (lejos por encima de la línea):\",d)"
      ],
      "metadata": {
        "colab": {
          "base_uri": "https://localhost:8080/"
        },
        "outputId": "4e9eb9e3-c91f-47b4-8a8f-3ffad2ecd064",
        "id": "oCTNZE0iY77H"
      },
      "execution_count": null,
      "outputs": [
        {
          "output_type": "stream",
          "name": "stdout",
          "text": [
            "Punto d (lejos por encima de la línea): [6.2206, 37.81855610876123]\n"
          ]
        }
      ]
    },
    {
      "cell_type": "code",
      "source": [
        "dotE = random.choice(x1)\n",
        "ind = x1.index(dotE)\n",
        "y_dotE = x2_plot[ind] - random.uniform(30, 40)\n",
        "e = [dotE,y_dotE]\n",
        "print(\"Punto e (lejos por debajo de la línea):\",e)"
      ],
      "metadata": {
        "colab": {
          "base_uri": "https://localhost:8080/"
        },
        "outputId": "99551cd2-c47b-4d0d-880c-6ef3161ee7f1",
        "id": "rRDYjfgUY77O"
      },
      "execution_count": null,
      "outputs": [
        {
          "output_type": "stream",
          "name": "stdout",
          "text": [
            "Punto e (lejos por debajo de la línea): [0.7597, -35.66989045460741]\n"
          ]
        }
      ]
    },
    {
      "cell_type": "code",
      "source": [
        "plt.scatter(clase1[:,0], clase1[:,1], c=['red'])\n",
        "plt.scatter(clase2[:,0], clase2[:,1], c=['blue'])\n",
        "plt.plot(x1, x2_plot, color='red')\n",
        "plt.plot(d[0],d[1],marker =\"o\", markersize=10, color=\"black\", label='d')\n",
        "plt.plot(e[0],e[1],marker =\"o\", markersize=10, color=\"grey\", label='e')\n",
        "\n",
        "plt.xlabel('x1')\n",
        "plt.ylabel('x2')\n",
        "plt.legend()\n",
        "\n",
        "plt.show()"
      ],
      "metadata": {
        "colab": {
          "base_uri": "https://localhost:8080/",
          "height": 279
        },
        "id": "op_AHqpCZVuF",
        "outputId": "7f8e85ef-4575-4aba-e621-b79e49b51373"
      },
      "execution_count": null,
      "outputs": [
        {
          "output_type": "display_data",
          "data": {
            "text/plain": [
              "<Figure size 432x288 with 1 Axes>"
            ],
            "image/png": "[encoded data removed]"
          },
          "metadata": {
            "needs_background": "light"
          }
        }
      ]
    },
    {
      "cell_type": "code",
      "source": [
        "print(\"El punto\", d ,\"lejano por encima de la linea tiende a:\",f(d[0],d[1]))"
      ],
      "metadata": {
        "colab": {
          "base_uri": "https://localhost:8080/"
        },
        "id": "7KdR8XAlZiId",
        "outputId": "6d322644-785e-49fe-e85c-82ab585cc7c0"
      },
      "execution_count": null,
      "outputs": [
        {
          "output_type": "stream",
          "name": "stdout",
          "text": [
            "El punto [6.2206, 37.81855610876123] lejano por encima de la linea tiende a: [-31.053888179212912]\n"
          ]
        }
      ]
    },
    {
      "cell_type": "code",
      "source": [
        "print(\"El punto\", e ,\"lejano por debajo de la linea tiende a:\",f(e[0],e[1]))"
      ],
      "metadata": {
        "colab": {
          "base_uri": "https://localhost:8080/"
        },
        "id": "kMKva74EZs5Y",
        "outputId": "3a67a134-fa0a-4b45-a256-b5ae61c3c997"
      },
      "execution_count": null,
      "outputs": [
        {
          "output_type": "stream",
          "name": "stdout",
          "text": [
            "El punto [0.7597, -35.66989045460741] lejano por debajo de la linea tiende a: [36.25892237731656]\n"
          ]
        }
      ]
    },
    {
      "cell_type": "code",
      "source": [
        "xx = list(np.arange(0,10,2))\n",
        "yy = f(list(clase1[:,0]),list(clase1[:,1]))\n",
        "plt.scatter(clase1[:,0], clase1[:,1], c=['red'])\n",
        "plt.scatter(clase2[:,0], clase2[:,1], c=['blue'])\n",
        "plt.plot(xx,yy, c='black', label='f(x1,x2)')\n",
        "plt.plot(x1, x2_plot, color='red')\n",
        "\n",
        "plt.xlabel('x1')\n",
        "plt.ylabel('x2')\n",
        "plt.legend()\n",
        "\n",
        "plt.show()"
      ],
      "metadata": {
        "colab": {
          "base_uri": "https://localhost:8080/",
          "height": 279
        },
        "id": "pxj7xmsUfM0L",
        "outputId": "170f46b7-f87d-40d6-cb9e-a0ccf021dd8d"
      },
      "execution_count": null,
      "outputs": [
        {
          "output_type": "display_data",
          "data": {
            "text/plain": [
              "<Figure size 432x288 with 1 Axes>"
            ],
            "image/png": "[encoded data removed]"
          },
          "metadata": {
            "needs_background": "light"
          }
        }
      ]
    },
    {
      "cell_type": "markdown",
      "source": [
        "#6. Dibujar la gráfica z vs sigmoid(z). A cuánto tiende sigmoid cuando:\n",
        "\n",
        "\n",
        "sigmoid(z) = $\\frac{1}{1+e^{-z}}$\n",
        "\n",
        "\n",
        "a) z tiende a infinito\n",
        "\n",
        "b) z es cero\n",
        "\n",
        "c) z tiene a -infinito"
      ],
      "metadata": {
        "id": "5g_PVJCuTAfO"
      }
    },
    {
      "cell_type": "code",
      "source": [
        "def sigmoid(z):\n",
        "  sigmoid = 1 / (1 + math.exp(-z))\n",
        "  return sigmoid"
      ],
      "metadata": {
        "id": "c5_A-6mQTAAd"
      },
      "execution_count": null,
      "outputs": []
    },
    {
      "cell_type": "code",
      "source": [
        "list_x = list(np.arange(-10,10,0.1))\n",
        "list_y = []\n",
        "for i in list_x:\n",
        "  list_y.append(sigmoid(i))"
      ],
      "metadata": {
        "id": "vtxGKduKSAC-"
      },
      "execution_count": null,
      "outputs": []
    },
    {
      "cell_type": "code",
      "source": [
        "plt.title('Sigmoid')\n",
        "plt.scatter(list_x, list_y, c=['brown'])\n",
        "\n",
        "plt.xlabel('x')\n",
        "plt.ylabel('y')\n",
        "\n",
        "plt.show()"
      ],
      "metadata": {
        "colab": {
          "base_uri": "https://localhost:8080/",
          "height": 295
        },
        "id": "kugiEuiuSsk8",
        "outputId": "e9637289-920e-4ddd-f2fa-6ace134f6348"
      },
      "execution_count": null,
      "outputs": [
        {
          "output_type": "display_data",
          "data": {
            "text/plain": [
              "<Figure size 432x288 with 1 Axes>"
            ],
            "image/png": "[encoded data removed]"
          },
          "metadata": {
            "needs_background": "light"
          }
        }
      ]
    },
    {
      "cell_type": "code",
      "source": [
        "print(\"Cuando z es cero:\",sigmoid(0))"
      ],
      "metadata": {
        "colab": {
          "base_uri": "https://localhost:8080/"
        },
        "id": "qTwVdHJ-O6MO",
        "outputId": "a215d87d-3f8f-4356-a033-8afa5e2dc30b"
      },
      "execution_count": null,
      "outputs": [
        {
          "output_type": "stream",
          "name": "stdout",
          "text": [
            "Cuando z es cero: 0.5\n"
          ]
        }
      ]
    },
    {
      "cell_type": "markdown",
      "source": [
        "R// Dada la gráfica se puede decir que:\n",
        "\n",
        "a) Cuando z tiende a infinito sigmoid tiende a 1.\n",
        "\n",
        "b) Cuando z es cero tiende sigmoid a 0.5.\n",
        "\n",
        "c) Cuando z tiende a -infinito sigmoid tiende a 0."
      ],
      "metadata": {
        "id": "bjjLa8OwUZHH"
      }
    }
  ]
}