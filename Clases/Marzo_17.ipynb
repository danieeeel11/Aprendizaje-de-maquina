{
  "nbformat": 4,
  "nbformat_minor": 0,
  "metadata": {
    "colab": {
      "provenance": []
    },
    "kernelspec": {
      "name": "python3",
      "display_name": "Python 3"
    },
    "language_info": {
      "name": "python"
    }
  },
  "cells": [
    {
      "cell_type": "markdown",
      "source": [
        "Daniel Velasquez"
      ],
      "metadata": {
        "id": "PVxrOoWHjCsl"
      }
    },
    {
      "cell_type": "code",
      "execution_count": 14,
      "metadata": {
        "id": "G2XMLtp3Czod"
      },
      "outputs": [],
      "source": [
        "import numpy as np\n",
        "import matplotlib.pyplot as plt\n",
        "from numpy import inf\n",
        "import math"
      ]
    },
    {
      "cell_type": "code",
      "execution_count": 15,
      "metadata": {
        "id": "OyMGY-uOCzoj"
      },
      "outputs": [],
      "source": [
        "muestras= np.array(\n",
        "    [[6.2206, 3.5095],\n",
        "    [5.1325, 4.0181],\n",
        "    [0.7597, 2.3992],\n",
        "    [1.2332, 6.8391],\n",
        "    [2.3995, 4.1727],\n",
        "    [0.4965, 9.0272],\n",
        "    [9.4479, 4.9086],\n",
        "    [4.8925, 3.3772],\n",
        "    [9.0005, 3.6925],\n",
        "    [1.1120, 7.8025]\n",
        "    ])\n",
        "\n",
        "clases=np.array([1, 1, 0, 0, 0, 0, 1, 1, 1, 0]);\n"
      ]
    },
    {
      "cell_type": "code",
      "execution_count": 16,
      "metadata": {
        "id": "yz21OTA4Czoo"
      },
      "outputs": [],
      "source": [
        "def recta(x):\n",
        "    return 0 "
      ]
    },
    {
      "cell_type": "code",
      "execution_count": 17,
      "metadata": {
        "id": "Wf1OWWCtCzox"
      },
      "outputs": [],
      "source": [
        "def sigmoid(z):\n",
        "  return 0"
      ]
    },
    {
      "cell_type": "code",
      "execution_count": 18,
      "metadata": {
        "id": "MMbPogAYH469"
      },
      "outputs": [],
      "source": [
        "def f(x1, x2):\n",
        "  return 0"
      ]
    },
    {
      "cell_type": "code",
      "execution_count": 19,
      "metadata": {
        "colab": {
          "base_uri": "https://localhost:8080/",
          "height": 265
        },
        "id": "hczDwiX0Czos",
        "outputId": "6e977354-9eea-40ed-81a8-72bebfabe54c"
      },
      "outputs": [
        {
          "output_type": "display_data",
          "data": {
            "text/plain": [
              "<Figure size 432x288 with 1 Axes>"
            ],
            "image/png": "[encoded data removed]"
          },
          "metadata": {
            "needs_background": "light"
          }
        }
      ],
      "source": [
        "fig = plt.figure()\n",
        "x = np.arange(-2, 12, 0.1)\n",
        "yscale = np.arange(-2, 12, 1)\n",
        "xscale = np.arange(-2, 12, 1)\n",
        "clase1 = muestras[np.where(clases==0), :][0]\n",
        "clase2 = muestras[np.where(clases==1), :][0]\n",
        "\n",
        "plt.scatter(clase1[:,0], clase1[:,1], c=['red'])\n",
        "plt.scatter(clase2[:,0], clase2[:,1], c=['blue'])\n",
        "\n",
        "plt.show()"
      ]
    },
    {
      "cell_type": "markdown",
      "source": [
        "#Gráfica Logistic Regression"
      ],
      "metadata": {
        "id": "dtsqk00SUI70"
      }
    },
    {
      "cell_type": "code",
      "source": [
        "x1 = []\n",
        "x2 = []\n",
        "for i in muestras:\n",
        "  x1.append(float(i[0]))\n",
        "  x2.append(float(i[1]))"
      ],
      "metadata": {
        "id": "GZHVDfwvW_xu"
      },
      "execution_count": 20,
      "outputs": []
    },
    {
      "cell_type": "code",
      "source": [
        "from sklearn.linear_model import LogisticRegression\n",
        "\n",
        "lr = LogisticRegression()\n",
        "lr.fit(muestras, clases)\n",
        "\n",
        "theta1 = lr.coef_[0][0]\n",
        "theta0 = lr.coef_[0][1]\n",
        "theta2 = lr.intercept_[0]\n",
        "print(\"Theta1:\", theta1)\n",
        "print(\"Theta0:\", theta0)"
      ],
      "metadata": {
        "colab": {
          "base_uri": "https://localhost:8080/"
        },
        "id": "jaSV4poVYvc7",
        "outputId": "fa81be4a-0afa-4ffb-a60a-48eac79645a8"
      },
      "execution_count": 21,
      "outputs": [
        {
          "output_type": "stream",
          "name": "stdout",
          "text": [
            "Theta1: 1.130882456525329\n",
            "Theta0: -0.2700994795131467\n"
          ]
        }
      ]
    },
    {
      "cell_type": "code",
      "source": [
        "def recta(x1,theta0,theta1):\n",
        "  aux = []\n",
        "  for i in x1:\n",
        "    aux.append(theta1*i + theta0)\n",
        "  return aux"
      ],
      "metadata": {
        "id": "Css9F2u2ZwdU"
      },
      "execution_count": 22,
      "outputs": []
    },
    {
      "cell_type": "code",
      "source": [
        "x2_plot = recta(x1,theta0,theta1)\n",
        "\n",
        "plt.scatter(clase1[:,0], clase1[:,1], c=['red'])\n",
        "plt.scatter(clase2[:,0], clase2[:,1], c=['blue'])\n",
        "plt.plot(x1, x2_plot, color='red')\n",
        "\n",
        "plt.xlabel('x1')\n",
        "plt.ylabel('x2')\n",
        "\n",
        "plt.show()"
      ],
      "metadata": {
        "colab": {
          "base_uri": "https://localhost:8080/",
          "height": 279
        },
        "id": "ahWQ7V3rXbRd",
        "outputId": "82b82731-f342-4884-b15f-c1dfb8214440"
      },
      "execution_count": 23,
      "outputs": [
        {
          "output_type": "display_data",
          "data": {
            "text/plain": [
              "<Figure size 432x288 with 1 Axes>"
            ],
            "image/png": "[encoded data removed]"
          },
          "metadata": {
            "needs_background": "light"
          }
        }
      ]
    },
    {
      "cell_type": "markdown",
      "source": [
        "#Nota"
      ],
      "metadata": {
        "id": "RPprf1viqAOn"
      }
    },
    {
      "cell_type": "markdown",
      "source": [
        "model $f(x_1, x_2) = \\theta_2 x_2 + \\theta_1 x_1 + \\theta_0 = 0$\n",
        "\n",
        "model.coef_ --> $\\theta_2, \\theta_1$\n",
        "\n",
        "model.intercept_ --> $\\theta_0$"
      ],
      "metadata": {
        "id": "brP4Q-CspLE0"
      }
    },
    {
      "cell_type": "markdown",
      "source": [
        "#Grafica SGDClassifier"
      ],
      "metadata": {
        "id": "qU741k3KpHUY"
      }
    },
    {
      "cell_type": "code",
      "source": [
        "from sklearn.linear_model import SGDRegressor"
      ],
      "metadata": {
        "id": "KAj9XZkpqDRE"
      },
      "execution_count": 39,
      "outputs": []
    },
    {
      "cell_type": "code",
      "source": [
        "modeloSGD = SGDRegressor()\n",
        "modeloSGD.fit(muestras,clases)\n",
        "theta1 = modeloSGD.coef_[0]\n",
        "theta0 = modeloSGD.intercept_[0]\n",
        "print(\"Theta1:\", theta1)\n",
        "print(\"Theta0:\", theta0)"
      ],
      "metadata": {
        "colab": {
          "base_uri": "https://localhost:8080/"
        },
        "id": "O7qGotzkqv3e",
        "outputId": "9859becc-7f60-4aeb-f8a1-46ca48f93e72"
      },
      "execution_count": 40,
      "outputs": [
        {
          "output_type": "stream",
          "name": "stdout",
          "text": [
            "Theta1: 0.14190957896918968\n",
            "Theta0: 0.012450293554492115\n"
          ]
        }
      ]
    },
    {
      "cell_type": "code",
      "source": [
        "x2_plot = recta(x1,theta0,theta1)\n",
        "\n",
        "plt.scatter(clase1[:,0], clase1[:,1], c=['red'])\n",
        "plt.scatter(clase2[:,0], clase2[:,1], c=['blue'])\n",
        "plt.plot(x1, x2_plot, color='red')\n",
        "\n",
        "plt.xlabel('x1')\n",
        "plt.ylabel('x2')\n",
        "\n",
        "plt.show()"
      ],
      "metadata": {
        "colab": {
          "base_uri": "https://localhost:8080/",
          "height": 279
        },
        "id": "OkZtExJkvJ7L",
        "outputId": "0777f40a-f860-4af5-cdb0-bd25d03662c7"
      },
      "execution_count": 41,
      "outputs": [
        {
          "output_type": "display_data",
          "data": {
            "text/plain": [
              "<Figure size 432x288 with 1 Axes>"
            ],
            "image/png": "[encoded data removed]"
          },
          "metadata": {
            "needs_background": "light"
          }
        }
      ]
    },
    {
      "cell_type": "markdown",
      "source": [
        "#Grafica"
      ],
      "metadata": {
        "id": "3H6DjD5HsUx8"
      }
    },
    {
      "cell_type": "code",
      "source": [
        "x2 = []\n",
        "for i in x1:\n",
        "  x2.append((-theta1*i-theta0)/theta2)"
      ],
      "metadata": {
        "id": "XLwgPIuvsWja"
      },
      "execution_count": 42,
      "outputs": []
    },
    {
      "cell_type": "code",
      "source": [
        "x2"
      ],
      "metadata": {
        "colab": {
          "base_uri": "https://localhost:8080/"
        },
        "id": "hHiERWRLstXu",
        "outputId": "ba064032-78ec-46e9-c0ac-0026a6289f3c"
      },
      "execution_count": 43,
      "outputs": [
        {
          "output_type": "execute_result",
          "data": {
            "text/plain": [
              "[0.30755381078289545,\n",
              " 0.25450504988125183,\n",
              " 0.04131543342071767,\n",
              " 0.06440024941826224,\n",
              " 0.12126153959341798,\n",
              " 0.028483493461786868,\n",
              " 0.46489621135074266,\n",
              " 0.2428041927758438,\n",
              " 0.4430838635634112,\n",
              " 0.0584913165800312]"
            ]
          },
          "metadata": {},
          "execution_count": 43
        }
      ]
    },
    {
      "cell_type": "code",
      "source": [
        "def f(x1,x2,theta0,theta1,theta2):\n",
        "  lista = []\n",
        "  index = 0\n",
        "  for i in x1:\n",
        "    lista.append(theta2*x2[index] + theta1*i + theta0)\n",
        "  return lista"
      ],
      "metadata": {
        "id": "5XqKrnSwsy5B"
      },
      "execution_count": 44,
      "outputs": []
    },
    {
      "cell_type": "code",
      "source": [
        "x2_plot = f(x1,x2,theta0,theta1,theta2)\n",
        "plt.scatter(clase1[:,0], clase1[:,1], c=['red'])\n",
        "plt.scatter(clase2[:,0], clase2[:,1], c=['blue'])\n",
        "plt.plot(x1, x2_plot, color='red')\n",
        "\n",
        "plt.xlabel('x1')\n",
        "plt.ylabel('x2')\n",
        "\n",
        "plt.show()"
      ],
      "metadata": {
        "colab": {
          "base_uri": "https://localhost:8080/",
          "height": 279
        },
        "id": "F_yaV4-xtYmX",
        "outputId": "3864292b-e69a-4f5d-b5c8-8e6af367bb54"
      },
      "execution_count": 45,
      "outputs": [
        {
          "output_type": "display_data",
          "data": {
            "text/plain": [
              "<Figure size 432x288 with 1 Axes>"
            ],
            "image/png": "[encoded data removed]"
          },
          "metadata": {
            "needs_background": "light"
          }
        }
      ]
    }
  ]
}