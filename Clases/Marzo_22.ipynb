{
  "nbformat": 4,
  "nbformat_minor": 0,
  "metadata": {
    "colab": {
      "provenance": []
    },
    "kernelspec": {
      "name": "python3",
      "display_name": "Python 3"
    },
    "language_info": {
      "name": "python"
    }
  },
  "cells": [
    {
      "cell_type": "markdown",
      "source": [
        "Daniel Velasquez"
      ],
      "metadata": {
        "id": "f-9pO89_YQvc"
      }
    },
    {
      "cell_type": "markdown",
      "source": [
        "Implementar la función de entropía cruzada binaria y corroborarla con la función de sklearn:\n",
        "\n",
        "https://scikit-learn.org/stable/modules/generated/sklearn.metrics.log_loss.html"
      ],
      "metadata": {
        "id": "o-yGVgm1VgmV"
      }
    },
    {
      "cell_type": "markdown",
      "source": [
        "datos de prueba:\n",
        "\n",
        "y     y_predict\n",
        "\n",
        "1   0.7\n",
        "\n",
        "1  0.9\n",
        "\n",
        "0   0.1"
      ],
      "metadata": {
        "id": "RW4zaea5VbyZ"
      }
    },
    {
      "cell_type": "code",
      "source": [
        "y = [1, 1, 0]\n",
        "y_predict = [0.7, 0.9, 0.1]"
      ],
      "metadata": {
        "id": "ex2ku7lpvueN"
      },
      "execution_count": 53,
      "outputs": []
    },
    {
      "cell_type": "code",
      "source": [
        "import math"
      ],
      "metadata": {
        "id": "-5gwhQFzx7Cy"
      },
      "execution_count": 54,
      "outputs": []
    },
    {
      "cell_type": "code",
      "source": [
        "def logm(num):\n",
        "  if num == 0 :\n",
        "    return 99999\n",
        "  return math.log(num)"
      ],
      "metadata": {
        "id": "9M-8QHGWySAk"
      },
      "execution_count": 55,
      "outputs": []
    },
    {
      "cell_type": "code",
      "source": [
        "def f_costo(y,y_):\n",
        "  total = 0\n",
        "  for i in range(len(y)):\n",
        "     total += y[i]*logm(y_[i]) + (1-y[i])*logm(1-y_[i])\n",
        "  return -total/(len(y))"
      ],
      "metadata": {
        "id": "XOKQ_C-Cxl41"
      },
      "execution_count": 56,
      "outputs": []
    },
    {
      "cell_type": "code",
      "source": [
        "print(\"Entropia cruzada binaria:\", f_costo(y,y_predict))"
      ],
      "metadata": {
        "colab": {
          "base_uri": "https://localhost:8080/"
        },
        "id": "cKJqeSH_ydGL",
        "outputId": "97a2f424-c190-4b63-fcbd-059527ad4678"
      },
      "execution_count": 57,
      "outputs": [
        {
          "output_type": "stream",
          "name": "stdout",
          "text": [
            "Entropia cruzada binaria: 0.18913199175146167\n"
          ]
        }
      ]
    },
    {
      "cell_type": "code",
      "source": [
        "from sklearn.metrics import log_loss"
      ],
      "metadata": {
        "id": "Nylc9WXNWDxb"
      },
      "execution_count": 58,
      "outputs": []
    },
    {
      "cell_type": "code",
      "source": [
        "print(\"Log_loss:\", log_loss(y,y_predict))"
      ],
      "metadata": {
        "colab": {
          "base_uri": "https://localhost:8080/"
        },
        "id": "NO_kjRz-WESX",
        "outputId": "3d1621d3-7177-4548-e1d2-809e6b0c6f7e"
      },
      "execution_count": 59,
      "outputs": [
        {
          "output_type": "stream",
          "name": "stdout",
          "text": [
            "Log_loss: 0.18913199175146167\n"
          ]
        }
      ]
    }
  ]
}