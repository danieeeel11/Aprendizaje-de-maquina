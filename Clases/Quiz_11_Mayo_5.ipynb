{
  "nbformat": 4,
  "nbformat_minor": 0,
  "metadata": {
    "colab": {
      "provenance": []
    },
    "kernelspec": {
      "name": "python3",
      "display_name": "Python 3"
    },
    "language_info": {
      "name": "python"
    }
  },
  "cells": [
    {
      "cell_type": "code",
      "execution_count": 74,
      "metadata": {
        "id": "lzJ40SzS6LkQ"
      },
      "outputs": [],
      "source": [
        "import numpy as np\n",
        "import numpy as np\n",
        "import tensorflow as tf\n",
        "from tensorflow import keras"
      ]
    },
    {
      "cell_type": "code",
      "source": [
        "def sigmoid(z):\n",
        "    return 1 / (1 + np.exp(-z))"
      ],
      "metadata": {
        "id": "kkF_D7p-mg0c"
      },
      "execution_count": 75,
      "outputs": []
    },
    {
      "cell_type": "markdown",
      "source": [
        "Input Layer"
      ],
      "metadata": {
        "id": "hnL_UzB7KiM1"
      }
    },
    {
      "cell_type": "code",
      "source": [
        "x1 = np.array([0.1,0.2,0.2])\n",
        "x2 = np.array([0.3,0.5,0.3])\n",
        "x3 = np.array([0.4,0.1,0.4])\n",
        "\n",
        "x1,x2,x3"
      ],
      "metadata": {
        "colab": {
          "base_uri": "https://localhost:8080/"
        },
        "id": "NFtYUD_R6OhI",
        "outputId": "9b59735a-6d5b-42b6-e259-4394018c7920"
      },
      "execution_count": 76,
      "outputs": [
        {
          "output_type": "execute_result",
          "data": {
            "text/plain": [
              "(array([0.1, 0.2, 0.2]), array([0.3, 0.5, 0.3]), array([0.4, 0.1, 0.4]))"
            ]
          },
          "metadata": {},
          "execution_count": 76
        }
      ]
    },
    {
      "cell_type": "markdown",
      "source": [
        "Weights"
      ],
      "metadata": {
        "id": "VHbiDye5Knvu"
      }
    },
    {
      "cell_type": "code",
      "source": [
        "w = [0.1,0.3,0.1,0.2,0.1,-0.8,0.1,-0.2,0.3,0.4,0.1,-0.5,0.1,0.1,-0.2,0.1]"
      ],
      "metadata": {
        "id": "R0cdyUuP7EcF"
      },
      "execution_count": 77,
      "outputs": []
    },
    {
      "cell_type": "markdown",
      "source": [
        "Hidden Layer"
      ],
      "metadata": {
        "id": "SOlAW_KLKAxo"
      }
    },
    {
      "cell_type": "code",
      "source": [
        "a1 = np.dot(x1,w[0]) + np.dot(x2,w[1]) + np.dot(x3,w[2])\n",
        "sigmoid(a1)"
      ],
      "metadata": {
        "id": "yjOXWQp_mj7d",
        "colab": {
          "base_uri": "https://localhost:8080/"
        },
        "outputId": "c87a95d9-c86a-405e-e73a-9075814515ad"
      },
      "execution_count": 78,
      "outputs": [
        {
          "output_type": "execute_result",
          "data": {
            "text/plain": [
              "array([0.53494295, 0.54487889, 0.53742985])"
            ]
          },
          "metadata": {},
          "execution_count": 78
        }
      ]
    },
    {
      "cell_type": "code",
      "source": [
        "a2 = np.dot(x1,w[3]) + np.dot(x2,w[4]) + np.dot(x3,w[5])\n",
        "sigmoid(a2)"
      ],
      "metadata": {
        "colab": {
          "base_uri": "https://localhost:8080/"
        },
        "id": "vTrEaZ7sJAUk",
        "outputId": "debedaa5-f902-4bc4-ead8-1d318e9c1f5e"
      },
      "execution_count": 79,
      "outputs": [
        {
          "output_type": "execute_result",
          "data": {
            "text/plain": [
              "array([0.4329071 , 0.50249998, 0.4378235 ])"
            ]
          },
          "metadata": {},
          "execution_count": 79
        }
      ]
    },
    {
      "cell_type": "code",
      "source": [
        "a3 = np.dot(x1,w[6]) + np.dot(x2,w[7]) + np.dot(x3,w[8])\n",
        "sigmoid(a3)"
      ],
      "metadata": {
        "colab": {
          "base_uri": "https://localhost:8080/"
        },
        "id": "22KMQ-dNJJRc",
        "outputId": "e03b63af-0b51-46a7-e52c-91837a9ebc74"
      },
      "execution_count": 80,
      "outputs": [
        {
          "output_type": "execute_result",
          "data": {
            "text/plain": [
              "array([0.51749286, 0.4875026 , 0.51998934])"
            ]
          },
          "metadata": {},
          "execution_count": 80
        }
      ]
    },
    {
      "cell_type": "code",
      "source": [
        "a4 = np.dot(x1,w[9]) + np.dot(x2,w[10]) + np.dot(x3,w[11])\n",
        "sigmoid(a4)"
      ],
      "metadata": {
        "colab": {
          "base_uri": "https://localhost:8080/"
        },
        "id": "IKyXllHdJTSR",
        "outputId": "0d534ead-e30c-4b04-fc1c-efcef2207efc"
      },
      "execution_count": 81,
      "outputs": [
        {
          "output_type": "execute_result",
          "data": {
            "text/plain": [
              "array([0.46754569, 0.51998934, 0.47751518])"
            ]
          },
          "metadata": {},
          "execution_count": 81
        }
      ]
    },
    {
      "cell_type": "markdown",
      "source": [
        "Output Layer"
      ],
      "metadata": {
        "id": "Iz-PEv3_KQbD"
      }
    },
    {
      "cell_type": "code",
      "source": [
        "b = np.dot(sigmoid(a1),w[12]) + np.dot(sigmoid(a2),w[13]) + np.dot(sigmoid(a3),w[14]) + np.dot(sigmoid(a4),w[15])\n",
        "sigmoid(b)"
      ],
      "metadata": {
        "colab": {
          "base_uri": "https://localhost:8080/"
        },
        "id": "gQ5G9mJCJYw9",
        "outputId": "0f9851e9-ef40-4304-fdc5-382c79b12e6b"
      },
      "execution_count": 82,
      "outputs": [
        {
          "output_type": "execute_result",
          "data": {
            "text/plain": [
              "array([0.51000891, 0.51480475, 0.51031828])"
            ]
          },
          "metadata": {},
          "execution_count": 82
        }
      ]
    }
  ]
}