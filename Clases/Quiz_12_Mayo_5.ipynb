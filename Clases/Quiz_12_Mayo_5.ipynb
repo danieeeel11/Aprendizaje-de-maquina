{
  "nbformat": 4,
  "nbformat_minor": 0,
  "metadata": {
    "colab": {
      "provenance": []
    },
    "kernelspec": {
      "name": "python3",
      "display_name": "Python 3"
    },
    "language_info": {
      "name": "python"
    }
  },
  "cells": [
    {
      "cell_type": "markdown",
      "source": [
        "Escoger  entre precision y recall\n",
        "- Cancer vs no Cáncer: **Recall** esto porque es mejor clasificar con a sanos como enfermos, que clasificar a personas enfermas como sanas.\n",
        "- Culpable o inocente con pena de muerte: **Precision** porque es se tiene que asegurar de no clasificarse como culpables a inocentes.\n",
        "- Detectar si una transacción es fraudulenta o no: **Recall** porque es mejor que una transaccion no fraudulenta sea clasificada como tal que dejar pasar una fraudulenta como no\n",
        "- Detectar y derribar un objetivo militar(posible misil) de manera automática: **Recall** porque es mejor derribar un objeto desconocido que dejarlo pasar \n",
        "- Spam vs No Spam: **Precision** porque es preferible que los correos importantes sean clasificados como tal a que pasen a spam y posiblemente perderse de un correo urgente, es mejor que un correo spam este en la bandeja principal a que suceda lo anterior."
      ],
      "metadata": {
        "id": "LHGPoGosCVpr"
      }
    },
    {
      "cell_type": "markdown",
      "source": [
        "Recall - ningun positivo quede como negativo (100 si todos los positivos quedan como positivos), minimizar falsos negativos, maximizar verdaderos positivos\n",
        "\n",
        "Precision - si clasifica bien positivos, minimizar falsos positivos"
      ],
      "metadata": {
        "id": "1Kg6dxMqDAyv"
      }
    }
  ]
}