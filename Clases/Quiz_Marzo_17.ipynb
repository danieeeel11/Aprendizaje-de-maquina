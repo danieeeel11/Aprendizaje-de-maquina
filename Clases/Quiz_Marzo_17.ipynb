{
  "nbformat": 4,
  "nbformat_minor": 0,
  "metadata": {
    "colab": {
      "provenance": []
    },
    "kernelspec": {
      "name": "python3",
      "display_name": "Python 3"
    },
    "language_info": {
      "name": "python"
    }
  },
  "cells": [
    {
      "cell_type": "markdown",
      "source": [
        "Daniel Velasquez"
      ],
      "metadata": {
        "id": "7U3DJNHDgTTN"
      }
    },
    {
      "cell_type": "markdown",
      "source": [
        "Si f(x1, x2) = 4x1 -3 -x2\n",
        "\n",
        "El punto (2,3) queda por encima, por debajo o sobre la línea? Por qué?"
      ],
      "metadata": {
        "id": "3DJMNZdUgQHR"
      }
    },
    {
      "cell_type": "code",
      "execution_count": null,
      "metadata": {
        "id": "tRP15DAHgKEu"
      },
      "outputs": [],
      "source": [
        "def f(x1,x2):\n",
        "  return 4*x1-3-x2"
      ]
    },
    {
      "cell_type": "code",
      "source": [
        "f(2,3)"
      ],
      "metadata": {
        "colab": {
          "base_uri": "https://localhost:8080/"
        },
        "id": "xoMTR2SRghBr",
        "outputId": "865c0a62-0a71-4bc4-a1a6-feacb8865030"
      },
      "execution_count": null,
      "outputs": [
        {
          "output_type": "execute_result",
          "data": {
            "text/plain": [
              "2"
            ]
          },
          "metadata": {},
          "execution_count": 2
        }
      ]
    },
    {
      "cell_type": "markdown",
      "source": [
        "Para este ejercicio, el punto dado esta por debajo de la linea pues el resultado de reemplazar x1=2 y x2=3 en f(x1,x2) es de 2, es decir, resultado positivo, lo que indica que se encuentra por debajo de la línea. \n",
        "\n",
        "Usualmente, cuando f da resultado positivo el punto se ubica por debajo de la línea, cuando f da negativo el punto se ubica por encima de la linea y cuando f da 0 el punto se ubica sobre la línea."
      ],
      "metadata": {
        "id": "LAJXVuoQh0Vk"
      }
    }
  ]
}